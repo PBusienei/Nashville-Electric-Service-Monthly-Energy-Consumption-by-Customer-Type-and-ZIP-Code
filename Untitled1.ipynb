{
 "cells": [
  {
   "cell_type": "code",
   "execution_count": 1,
   "metadata": {},
   "outputs": [],
   "source": [
    "#Import the required packages with their customary aliases\n",
    "import re\n",
    "import pandas as pd\n",
    "import numpy as np\n",
    "import matplotlib.pyplot as plt\n",
    "import seaborn as sns\n",
    "with sns.color_palette(\"husl\", 8):\n",
    "    import gmplot\n",
    "from shapely.geometry import Point\n",
    "import geopandas as gpd\n",
    "from mpl_toolkits.basemap import Basemap\n",
    "import folium\n",
    "from folium import plugins\n",
    "from folium import Map, Marker, GeoJson\n",
    "from geopandas import GeoDataFrame\n",
    "pd.set_option('display.max_columns', 104)\n",
    "sns.set(color_codes=True)\n",
    "#Use the %matplotlib inline command so that your plots show in the notebook without having to call plt.show() every time\n",
    "%matplotlib inline"
   ]
  },
  {
   "cell_type": "code",
   "execution_count": 31,
   "metadata": {},
   "outputs": [],
   "source": [
    "nes_df = pd.read_csv('energy_consumption_combine_df5.csv')"
   ]
  },
  {
   "cell_type": "code",
   "execution_count": 32,
   "metadata": {},
   "outputs": [
    {
     "data": {
      "text/html": [
       "<div>\n",
       "<style scoped>\n",
       "    .dataframe tbody tr th:only-of-type {\n",
       "        vertical-align: middle;\n",
       "    }\n",
       "\n",
       "    .dataframe tbody tr th {\n",
       "        vertical-align: top;\n",
       "    }\n",
       "\n",
       "    .dataframe thead th {\n",
       "        text-align: right;\n",
       "    }\n",
       "</style>\n",
       "<table border=\"1\" class=\"dataframe\">\n",
       "  <thead>\n",
       "    <tr style=\"text-align: right;\">\n",
       "      <th></th>\n",
       "      <th>year</th>\n",
       "      <th>month</th>\n",
       "      <th>zip_code</th>\n",
       "      <th>customer_type</th>\n",
       "      <th>monthly_usage</th>\n",
       "      <th>lat</th>\n",
       "      <th>lng</th>\n",
       "      <th>geometry</th>\n",
       "    </tr>\n",
       "  </thead>\n",
       "  <tbody>\n",
       "    <tr>\n",
       "      <th>0</th>\n",
       "      <td>2015.0</td>\n",
       "      <td>8</td>\n",
       "      <td>37204.0</td>\n",
       "      <td>commercial</td>\n",
       "      <td>6517747.0</td>\n",
       "      <td>36.109305</td>\n",
       "      <td>-86.776748</td>\n",
       "      <td>POINT (-86.776748 36.109305)</td>\n",
       "    </tr>\n",
       "    <tr>\n",
       "      <th>1</th>\n",
       "      <td>2015.0</td>\n",
       "      <td>8</td>\n",
       "      <td>37242.0</td>\n",
       "      <td>commercial</td>\n",
       "      <td>398400.0</td>\n",
       "      <td>36.165017</td>\n",
       "      <td>-86.782171</td>\n",
       "      <td>POINT (-86.78217100000001 36.165017)</td>\n",
       "    </tr>\n",
       "    <tr>\n",
       "      <th>2</th>\n",
       "      <td>2015.0</td>\n",
       "      <td>8</td>\n",
       "      <td>37210.0</td>\n",
       "      <td>commercial</td>\n",
       "      <td>10749731.0</td>\n",
       "      <td>36.140869</td>\n",
       "      <td>-86.738847</td>\n",
       "      <td>POINT (-86.73884700000001 36.140869)</td>\n",
       "    </tr>\n",
       "    <tr>\n",
       "      <th>3</th>\n",
       "      <td>2015.0</td>\n",
       "      <td>8</td>\n",
       "      <td>37214.0</td>\n",
       "      <td>commercial</td>\n",
       "      <td>1656933.0</td>\n",
       "      <td>36.168995</td>\n",
       "      <td>-86.667231</td>\n",
       "      <td>POINT (-86.667231 36.168995)</td>\n",
       "    </tr>\n",
       "    <tr>\n",
       "      <th>4</th>\n",
       "      <td>2015.0</td>\n",
       "      <td>8</td>\n",
       "      <td>37205.0</td>\n",
       "      <td>commercial</td>\n",
       "      <td>9106796.0</td>\n",
       "      <td>36.112469</td>\n",
       "      <td>-86.867263</td>\n",
       "      <td>POINT (-86.86726299999999 36.112469)</td>\n",
       "    </tr>\n",
       "  </tbody>\n",
       "</table>\n",
       "</div>"
      ],
      "text/plain": [
       "     year  month  zip_code customer_type  monthly_usage        lat        lng  \\\n",
       "0  2015.0      8   37204.0    commercial      6517747.0  36.109305 -86.776748   \n",
       "1  2015.0      8   37242.0    commercial       398400.0  36.165017 -86.782171   \n",
       "2  2015.0      8   37210.0    commercial     10749731.0  36.140869 -86.738847   \n",
       "3  2015.0      8   37214.0    commercial      1656933.0  36.168995 -86.667231   \n",
       "4  2015.0      8   37205.0    commercial      9106796.0  36.112469 -86.867263   \n",
       "\n",
       "                               geometry  \n",
       "0          POINT (-86.776748 36.109305)  \n",
       "1  POINT (-86.78217100000001 36.165017)  \n",
       "2  POINT (-86.73884700000001 36.140869)  \n",
       "3          POINT (-86.667231 36.168995)  \n",
       "4  POINT (-86.86726299999999 36.112469)  "
      ]
     },
     "execution_count": 32,
     "metadata": {},
     "output_type": "execute_result"
    }
   ],
   "source": [
    "nes_df.head()"
   ]
  },
  {
   "cell_type": "code",
   "execution_count": 35,
   "metadata": {},
   "outputs": [
    {
     "data": {
      "text/plain": [
       "0        37204.0\n",
       "1        37242.0\n",
       "2        37210.0\n",
       "3        37214.0\n",
       "4        37205.0\n",
       "          ...   \n",
       "13449    37212.0\n",
       "13450    37072.0\n",
       "13451    37203.0\n",
       "13452    37210.0\n",
       "13453    37217.0\n",
       "Name: zip_code, Length: 13454, dtype: float64"
      ]
     },
     "execution_count": 35,
     "metadata": {},
     "output_type": "execute_result"
    }
   ],
   "source": [
    "nes_df['zip_code']"
   ]
  },
  {
   "cell_type": "code",
   "execution_count": 12,
   "metadata": {},
   "outputs": [
    {
     "data": {
      "text/html": [
       "<div>\n",
       "<style scoped>\n",
       "    .dataframe tbody tr th:only-of-type {\n",
       "        vertical-align: middle;\n",
       "    }\n",
       "\n",
       "    .dataframe tbody tr th {\n",
       "        vertical-align: top;\n",
       "    }\n",
       "\n",
       "    .dataframe thead th {\n",
       "        text-align: right;\n",
       "    }\n",
       "</style>\n",
       "<table border=\"1\" class=\"dataframe\">\n",
       "  <thead>\n",
       "    <tr style=\"text-align: right;\">\n",
       "      <th></th>\n",
       "      <th>year</th>\n",
       "      <th>month</th>\n",
       "      <th>zip_code</th>\n",
       "      <th>customer_type</th>\n",
       "      <th>monthly_usage</th>\n",
       "      <th>lat</th>\n",
       "      <th>lng</th>\n",
       "      <th>geometry</th>\n",
       "    </tr>\n",
       "  </thead>\n",
       "  <tbody>\n",
       "    <tr>\n",
       "      <th>7550</th>\n",
       "      <td>2016.0</td>\n",
       "      <td>1</td>\n",
       "      <td>37206.0</td>\n",
       "      <td>residential</td>\n",
       "      <td>4032207.0</td>\n",
       "      <td>36.180950</td>\n",
       "      <td>-86.739624</td>\n",
       "      <td>POINT (-86.73962400000001 36.18095)</td>\n",
       "    </tr>\n",
       "    <tr>\n",
       "      <th>7551</th>\n",
       "      <td>2016.0</td>\n",
       "      <td>1</td>\n",
       "      <td>37015.0</td>\n",
       "      <td>residential</td>\n",
       "      <td>833727.0</td>\n",
       "      <td>36.290030</td>\n",
       "      <td>-87.070106</td>\n",
       "      <td>POINT (-87.070106 36.29003)</td>\n",
       "    </tr>\n",
       "    <tr>\n",
       "      <th>7552</th>\n",
       "      <td>2016.0</td>\n",
       "      <td>1</td>\n",
       "      <td>37205.0</td>\n",
       "      <td>residential</td>\n",
       "      <td>7313534.0</td>\n",
       "      <td>36.112469</td>\n",
       "      <td>-86.867263</td>\n",
       "      <td>POINT (-86.86726299999999 36.112469)</td>\n",
       "    </tr>\n",
       "    <tr>\n",
       "      <th>7553</th>\n",
       "      <td>2016.0</td>\n",
       "      <td>1</td>\n",
       "      <td>37243.0</td>\n",
       "      <td>residential</td>\n",
       "      <td>16520.0</td>\n",
       "      <td>36.166899</td>\n",
       "      <td>-86.776720</td>\n",
       "      <td>POINT (-86.77672 36.166899)</td>\n",
       "    </tr>\n",
       "    <tr>\n",
       "      <th>7554</th>\n",
       "      <td>2016.0</td>\n",
       "      <td>1</td>\n",
       "      <td>37204.0</td>\n",
       "      <td>residential</td>\n",
       "      <td>2167596.0</td>\n",
       "      <td>36.109305</td>\n",
       "      <td>-86.776748</td>\n",
       "      <td>POINT (-86.776748 36.109305)</td>\n",
       "    </tr>\n",
       "  </tbody>\n",
       "</table>\n",
       "</div>"
      ],
      "text/plain": [
       "        year  month  zip_code customer_type  monthly_usage        lat  \\\n",
       "7550  2016.0      1   37206.0   residential      4032207.0  36.180950   \n",
       "7551  2016.0      1   37015.0   residential       833727.0  36.290030   \n",
       "7552  2016.0      1   37205.0   residential      7313534.0  36.112469   \n",
       "7553  2016.0      1   37243.0   residential        16520.0  36.166899   \n",
       "7554  2016.0      1   37204.0   residential      2167596.0  36.109305   \n",
       "\n",
       "            lng                              geometry  \n",
       "7550 -86.739624   POINT (-86.73962400000001 36.18095)  \n",
       "7551 -87.070106           POINT (-87.070106 36.29003)  \n",
       "7552 -86.867263  POINT (-86.86726299999999 36.112469)  \n",
       "7553 -86.776720           POINT (-86.77672 36.166899)  \n",
       "7554 -86.776748          POINT (-86.776748 36.109305)  "
      ]
     },
     "execution_count": 12,
     "metadata": {},
     "output_type": "execute_result"
    }
   ],
   "source": [
    "residential_df = nes_df.loc[nes_df.customer_type == 'residential']\n",
    "residential_df.head()"
   ]
  },
  {
   "cell_type": "code",
   "execution_count": 36,
   "metadata": {},
   "outputs": [
    {
     "name": "stderr",
     "output_type": "stream",
     "text": [
      "No handles with labels found to put in legend.\n"
     ]
    },
    {
     "data": {
      "text/plain": [
       "(array([ 0,  1,  2,  3,  4,  5,  6,  7,  8,  9, 10, 11, 12, 13, 14, 15, 16,\n",
       "        17, 18, 19, 20, 21, 22, 23, 24, 25, 26, 27, 28, 29, 30, 31, 32, 33,\n",
       "        34, 35, 36, 37, 38, 39, 40, 41]),\n",
       " <a list of 42 Text xticklabel objects>)"
      ]
     },
     "execution_count": 36,
     "metadata": {},
     "output_type": "execute_result"
    },
    {
     "data": {
      "image/png": "[encoded data removed]",
      "text/plain": [
       "<Figure size 1152x432 with 1 Axes>"
      ]
     },
     "metadata": {
      "needs_background": "light"
     },
     "output_type": "display_data"
    }
   ],
   "source": [
    "ax = sns.barplot(x=\"zip_code\", y=\"monthly_usage\", data=residential_df)\n",
    "#ax.set_yscale(\"log\")\n",
    "plt.legend(bbox_to_anchor=(1.05,1), loc=2, borderaxespad=0.)\n",
    "plt.xticks(rotation=90)"
   ]
  },
  {
   "cell_type": "code",
   "execution_count": 41,
   "metadata": {},
   "outputs": [],
   "source": [
    "res_grp_zip = residential_df.groupby('zip_code').monthly_usage.sum().reset_index()"
   ]
  },
  {
   "cell_type": "code",
   "execution_count": 43,
   "metadata": {},
   "outputs": [
    {
     "data": {
      "text/html": [
       "<div>\n",
       "<style scoped>\n",
       "    .dataframe tbody tr th:only-of-type {\n",
       "        vertical-align: middle;\n",
       "    }\n",
       "\n",
       "    .dataframe tbody tr th {\n",
       "        vertical-align: top;\n",
       "    }\n",
       "\n",
       "    .dataframe thead th {\n",
       "        text-align: right;\n",
       "    }\n",
       "</style>\n",
       "<table border=\"1\" class=\"dataframe\">\n",
       "  <thead>\n",
       "    <tr style=\"text-align: right;\">\n",
       "      <th></th>\n",
       "      <th>zip_code</th>\n",
       "      <th>monthly_usage</th>\n",
       "    </tr>\n",
       "  </thead>\n",
       "  <tbody>\n",
       "    <tr>\n",
       "      <th>0</th>\n",
       "      <td>37013.0</td>\n",
       "      <td>656822992.0</td>\n",
       "    </tr>\n",
       "    <tr>\n",
       "      <th>1</th>\n",
       "      <td>37015.0</td>\n",
       "      <td>59937360.0</td>\n",
       "    </tr>\n",
       "    <tr>\n",
       "      <th>2</th>\n",
       "      <td>37027.0</td>\n",
       "      <td>614736267.0</td>\n",
       "    </tr>\n",
       "    <tr>\n",
       "      <th>3</th>\n",
       "      <td>37064.0</td>\n",
       "      <td>529703.0</td>\n",
       "    </tr>\n",
       "    <tr>\n",
       "      <th>4</th>\n",
       "      <td>37066.0</td>\n",
       "      <td>38510846.0</td>\n",
       "    </tr>\n",
       "    <tr>\n",
       "      <th>5</th>\n",
       "      <td>37069.0</td>\n",
       "      <td>45243829.0</td>\n",
       "    </tr>\n",
       "    <tr>\n",
       "      <th>6</th>\n",
       "      <td>37072.0</td>\n",
       "      <td>554580510.0</td>\n",
       "    </tr>\n",
       "    <tr>\n",
       "      <th>7</th>\n",
       "      <td>37073.0</td>\n",
       "      <td>7210014.0</td>\n",
       "    </tr>\n",
       "    <tr>\n",
       "      <th>8</th>\n",
       "      <td>37075.0</td>\n",
       "      <td>663893575.0</td>\n",
       "    </tr>\n",
       "    <tr>\n",
       "      <th>9</th>\n",
       "      <td>37076.0</td>\n",
       "      <td>429633923.0</td>\n",
       "    </tr>\n",
       "  </tbody>\n",
       "</table>\n",
       "</div>"
      ],
      "text/plain": [
       "   zip_code  monthly_usage\n",
       "0   37013.0    656822992.0\n",
       "1   37015.0     59937360.0\n",
       "2   37027.0    614736267.0\n",
       "3   37064.0       529703.0\n",
       "4   37066.0     38510846.0\n",
       "5   37069.0     45243829.0\n",
       "6   37072.0    554580510.0\n",
       "7   37073.0      7210014.0\n",
       "8   37075.0    663893575.0\n",
       "9   37076.0    429633923.0"
      ]
     },
     "execution_count": 43,
     "metadata": {},
     "output_type": "execute_result"
    }
   ],
   "source": [
    "res_grp_zip.head(10)"
   ]
  },
  {
   "cell_type": "code",
   "execution_count": 45,
   "metadata": {},
   "outputs": [
    {
     "data": {
      "text/html": [
       "<div>\n",
       "<style scoped>\n",
       "    .dataframe tbody tr th:only-of-type {\n",
       "        vertical-align: middle;\n",
       "    }\n",
       "\n",
       "    .dataframe tbody tr th {\n",
       "        vertical-align: top;\n",
       "    }\n",
       "\n",
       "    .dataframe thead th {\n",
       "        text-align: right;\n",
       "    }\n",
       "</style>\n",
       "<table border=\"1\" class=\"dataframe\">\n",
       "  <thead>\n",
       "    <tr style=\"text-align: right;\">\n",
       "      <th></th>\n",
       "      <th>zip_code</th>\n",
       "      <th>monthly_usage</th>\n",
       "      <th>monthly_avg_energy</th>\n",
       "    </tr>\n",
       "  </thead>\n",
       "  <tbody>\n",
       "    <tr>\n",
       "      <th>0</th>\n",
       "      <td>37013.0</td>\n",
       "      <td>656822992.0</td>\n",
       "      <td>7.062613e+06</td>\n",
       "    </tr>\n",
       "    <tr>\n",
       "      <th>1</th>\n",
       "      <td>37015.0</td>\n",
       "      <td>59937360.0</td>\n",
       "      <td>6.444877e+05</td>\n",
       "    </tr>\n",
       "    <tr>\n",
       "      <th>2</th>\n",
       "      <td>37027.0</td>\n",
       "      <td>614736267.0</td>\n",
       "      <td>6.610067e+06</td>\n",
       "    </tr>\n",
       "    <tr>\n",
       "      <th>3</th>\n",
       "      <td>37064.0</td>\n",
       "      <td>529703.0</td>\n",
       "      <td>5.695731e+03</td>\n",
       "    </tr>\n",
       "    <tr>\n",
       "      <th>4</th>\n",
       "      <td>37066.0</td>\n",
       "      <td>38510846.0</td>\n",
       "      <td>4.140951e+05</td>\n",
       "    </tr>\n",
       "    <tr>\n",
       "      <th>5</th>\n",
       "      <td>37069.0</td>\n",
       "      <td>45243829.0</td>\n",
       "      <td>4.864928e+05</td>\n",
       "    </tr>\n",
       "    <tr>\n",
       "      <th>6</th>\n",
       "      <td>37072.0</td>\n",
       "      <td>554580510.0</td>\n",
       "      <td>5.963231e+06</td>\n",
       "    </tr>\n",
       "    <tr>\n",
       "      <th>7</th>\n",
       "      <td>37073.0</td>\n",
       "      <td>7210014.0</td>\n",
       "      <td>7.752703e+04</td>\n",
       "    </tr>\n",
       "    <tr>\n",
       "      <th>8</th>\n",
       "      <td>37075.0</td>\n",
       "      <td>663893575.0</td>\n",
       "      <td>7.138641e+06</td>\n",
       "    </tr>\n",
       "    <tr>\n",
       "      <th>9</th>\n",
       "      <td>37076.0</td>\n",
       "      <td>429633923.0</td>\n",
       "      <td>4.619720e+06</td>\n",
       "    </tr>\n",
       "  </tbody>\n",
       "</table>\n",
       "</div>"
      ],
      "text/plain": [
       "   zip_code  monthly_usage  monthly_avg_energy\n",
       "0   37013.0    656822992.0        7.062613e+06\n",
       "1   37015.0     59937360.0        6.444877e+05\n",
       "2   37027.0    614736267.0        6.610067e+06\n",
       "3   37064.0       529703.0        5.695731e+03\n",
       "4   37066.0     38510846.0        4.140951e+05\n",
       "5   37069.0     45243829.0        4.864928e+05\n",
       "6   37072.0    554580510.0        5.963231e+06\n",
       "7   37073.0      7210014.0        7.752703e+04\n",
       "8   37075.0    663893575.0        7.138641e+06\n",
       "9   37076.0    429633923.0        4.619720e+06"
      ]
     },
     "execution_count": 45,
     "metadata": {},
     "output_type": "execute_result"
    }
   ],
   "source": [
    "res_grp_zip['monthly_avg_energy'] = res_grp_zip.monthly_usage/93\n",
    "res_grp_zip.head(10)   "
   ]
  },
  {
   "cell_type": "code",
   "execution_count": 48,
   "metadata": {},
   "outputs": [
    {
     "name": "stderr",
     "output_type": "stream",
     "text": [
      "No handles with labels found to put in legend.\n"
     ]
    },
    {
     "data": {
      "text/plain": [
       "(array([ 0,  1,  2,  3,  4,  5,  6,  7,  8,  9, 10, 11, 12, 13, 14, 15, 16,\n",
       "        17, 18, 19, 20, 21, 22, 23, 24, 25, 26, 27, 28, 29, 30, 31, 32, 33,\n",
       "        34, 35, 36, 37, 38, 39, 40, 41]),\n",
       " <a list of 42 Text xticklabel objects>)"
      ]
     },
     "execution_count": 48,
     "metadata": {},
     "output_type": "execute_result"
    },
    {
     "data": {
      "image/png": "[encoded data removed]",
      "text/plain": [
       "<Figure size 1152x432 with 1 Axes>"
      ]
     },
     "metadata": {
      "needs_background": "light"
     },
     "output_type": "display_data"
    }
   ],
   "source": [
    "ax = sns.barplot(x=\"zip_code\", y=\"monthly_avg_energy\", data=res_grp_zip)\n",
    "#ax.set_yscale(\"log\")\n",
    "plt.legend(bbox_to_anchor=(1.05,1), loc=2, borderaxespad=0.)\n",
    "res_grp_zip.sort_values('zip_code',inplace=True)\n",
    "plt.xticks(rotation=90)"
   ]
  },
  {
   "cell_type": "code",
   "execution_count": 18,
   "metadata": {},
   "outputs": [
    {
     "data": {
      "text/plain": [
       "<Figure size 432x288 with 0 Axes>"
      ]
     },
     "metadata": {},
     "output_type": "display_data"
    },
    {
     "data": {
      "image/png": "[encoded data removed]",
      "text/plain": [
       "<Figure size 432x288 with 1 Axes>"
      ]
     },
     "metadata": {
      "needs_background": "light"
     },
     "output_type": "display_data"
    }
   ],
   "source": [
    "In [6]: sum_monthly_use = sum_monthly_use.cumsum()\n",
    "\n",
    "In [7]: plt.figure(); sum_monthly_use.plot();"
   ]
  },
  {
   "cell_type": "code",
   "execution_count": 23,
   "metadata": {},
   "outputs": [
    {
     "name": "stderr",
     "output_type": "stream",
     "text": [
      "No handles with labels found to put in legend.\n"
     ]
    },
    {
     "data": {
      "text/plain": [
       "(array([ 0,  1,  2,  3,  4,  5,  6,  7,  8,  9, 10, 11, 12, 13, 14, 15, 16,\n",
       "        17, 18, 19, 20, 21, 22, 23, 24, 25, 26, 27, 28, 29, 30, 31, 32, 33,\n",
       "        34, 35, 36, 37, 38, 39, 40, 41]),\n",
       " <a list of 42 Text xticklabel objects>)"
      ]
     },
     "execution_count": 23,
     "metadata": {},
     "output_type": "execute_result"
    },
    {
     "data": {
      "image/png": "[encoded data removed]",
      "text/plain": [
       "<Figure size 1152x432 with 1 Axes>"
      ]
     },
     "metadata": {
      "needs_background": "light"
     },
     "output_type": "display_data"
    }
   ],
   "source": [
    "ax = sns.barplot(x=\"zip_code\", y=\"monthly_avg_energy\", data=sum_monthly_use)\n",
    "#ax.set_yscale(\"log\")\n",
    "plt.legend(bbox_to_anchor=(1.05,1), loc=2, borderaxespad=0.)\n",
    "plt.xticks(rotation=90)"
   ]
  },
  {
   "cell_type": "code",
   "execution_count": null,
   "metadata": {},
   "outputs": [],
   "source": []
  }
 ],
 "metadata": {
  "kernelspec": {
   "display_name": "Python 3",
   "language": "python",
   "name": "python3"
  },
  "language_info": {
   "codemirror_mode": {
    "name": "ipython",
    "version": 3
   },
   "file_extension": ".py",
   "mimetype": "text/x-python",
   "name": "python",
   "nbconvert_exporter": "python",
   "pygments_lexer": "ipython3",
   "version": "3.7.0"
  }
 },
 "nbformat": 4,
 "nbformat_minor": 2
}
