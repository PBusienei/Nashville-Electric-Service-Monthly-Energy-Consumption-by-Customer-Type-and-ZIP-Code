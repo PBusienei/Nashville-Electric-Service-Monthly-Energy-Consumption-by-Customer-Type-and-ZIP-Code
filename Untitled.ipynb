{
 "cells": [
  {
   "cell_type": "code",
   "execution_count": 1,
   "metadata": {},
   "outputs": [],
   "source": [
    "#Import the required packages with their customary aliases\n",
    "import pandas as pd\n",
    "import numpy as np\n",
    "import matplotlib.pyplot as plt\n",
    "import seaborn as sns\n",
    "with sns.color_palette(\"husl\", 8):\n",
    "    import gmplot\n",
    "from shapely.geometry import Point\n",
    "import geopandas as gpd\n",
    "from mpl_toolkits.basemap import Basemap\n",
    "import folium\n",
    "from folium import plugins\n",
    "from folium import Map, Marker, GeoJson\n",
    "from geopandas import GeoDataFrame\n",
    "pd.set_option('display.max_columns', 104)\n",
    "sns.set(color_codes=True)\n",
    "#Use the %matplotlib inline command so that your plots show in the notebook without having to call plt.show() every time\n",
    "%matplotlib inline"
   ]
  },
  {
   "cell_type": "code",
   "execution_count": null,
   "metadata": {},
   "outputs": [],
   "source": []
  }
 ],
 "metadata": {
  "kernelspec": {
   "display_name": "Python 3",
   "language": "python",
   "name": "python3"
  },
  "language_info": {
   "codemirror_mode": {
    "name": "ipython",
    "version": 3
   },
   "file_extension": ".py",
   "mimetype": "text/x-python",
   "name": "python",
   "nbconvert_exporter": "python",
   "pygments_lexer": "ipython3",
   "version": "3.7.0"
  }
 },
 "nbformat": 4,
 "nbformat_minor": 2
}
